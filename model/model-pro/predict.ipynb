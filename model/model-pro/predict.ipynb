{
 "cells": [
  {
   "attachments": {},
   "cell_type": "markdown",
   "metadata": {},
   "source": [
    "### 预测数据处理\n",
    "\n",
    "* 将数据转换成preprocess形状\n",
    "* 填补空缺项（分类列填missing，数值列填nan）\n",
    "* 剩余的分类列做one-hot编码\n",
    "* 对数据进行标准化处理"
   ]
  },
  {
   "cell_type": "code",
   "execution_count": 58,
   "metadata": {},
   "outputs": [],
   "source": [
    "import numpy as np\n",
    "import pandas as pd\n",
    "import joblib\n",
    "import pickle\n",
    "from xgboost import XGBClassifier"
   ]
  },
  {
   "cell_type": "code",
   "execution_count": 59,
   "metadata": {},
   "outputs": [
    {
     "name": "stdout",
     "output_type": "stream",
     "text": [
      "(2, 356)\n",
      "(0, 97)\n"
     ]
    }
   ],
   "source": [
    "# 加载数据处理模型\n",
    "imputer = joblib.load('./model/imputer.joblib')\n",
    "scaler = joblib.load('./model/scaler.joblib')\n",
    "with open('./model/NumericCols.pkl', 'rb') as f:\n",
    "    NumericCols = pickle.load(f)\n",
    "\n",
    "# 读取数据\n",
    "input_data = pd.read_excel('./predict/predict_data.xlsx')\n",
    "# 读取需要的列\n",
    "preprocessed_data = pd.read_csv('./predict/preprocessed.csv', nrows=0)\n",
    "\n",
    "print(input_data.shape)\n",
    "\n",
    "# 将多余的列删除\n",
    "for field in input_data.columns:\n",
    "    if field not in preprocessed_data.columns:\n",
    "        input_data = input_data.drop(field, axis=1)\n",
    "\n",
    "print(preprocessed_data.shape)\n",
    "\n",
    "# 添加宜居度\n",
    "input_data['habitable'] = np.nan\n",
    "input_data = input_data.set_index(\"rowid\")\n",
    "\n",
    "# 填充缺失值\n",
    "input_data[input_data._get_numeric_data().columns] = imputer.transform(input_data[input_data._get_numeric_data().columns])\n",
    "\n",
    "# 标准化\n",
    "input_data[NumericCols] = scaler.transform(input_data[NumericCols]) \n",
    "\n",
    "open('./predict/predict_data_clearify.csv', 'w').close()\n",
    "\n",
    "input_data.to_csv('./predict/predict_data_clearify.csv')"
   ]
  },
  {
   "attachments": {},
   "cell_type": "markdown",
   "metadata": {},
   "source": [
    "### 预测"
   ]
  },
  {
   "cell_type": "code",
   "execution_count": 60,
   "metadata": {},
   "outputs": [
    {
     "name": "stdout",
     "output_type": "stream",
     "text": [
      "[0] [0] \n"
     ]
    }
   ],
   "source": [
    "model = XGBClassifier()\n",
    "model.load_model('./model/xgb.model')\n",
    "\n",
    "test = pd.read_csv('./predict/predict_data_clearify.csv')\n",
    "remove = ['rowid', 'habitable']\n",
    "test = test.drop(remove, axis = 1)\n",
    "\n",
    "for i in range(len(test)):\n",
    "    test_x = test.iloc[i].to_numpy()\n",
    "    test_x = test_x.reshape(1, -1)\n",
    "    # print(test_x)\n",
    "    y_preds = model.predict(test_x)\n",
    "    print(y_preds, end=' ')\n",
    "print()"
   ]
  }
 ],
 "metadata": {
  "kernelspec": {
   "display_name": "pytorch",
   "language": "python",
   "name": "python3"
  },
  "language_info": {
   "codemirror_mode": {
    "name": "ipython",
    "version": 3
   },
   "file_extension": ".py",
   "mimetype": "text/x-python",
   "name": "python",
   "nbconvert_exporter": "python",
   "pygments_lexer": "ipython3",
   "version": "3.9.16"
  },
  "orig_nbformat": 4
 },
 "nbformat": 4,
 "nbformat_minor": 2
}
