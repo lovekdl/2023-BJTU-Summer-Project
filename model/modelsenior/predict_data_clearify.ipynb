{
 "cells": [
  {
   "attachments": {},
   "cell_type": "markdown",
   "metadata": {},
   "source": [
    "### 预测数据处理\n",
    "\n",
    "* 将数据转换成preprocess形状\n",
    "* 填补空缺项（分类列填missing，数值列填nan）\n",
    "* 剩余的分类列做one-hot编码\n",
    "* 对数据进行标准化处理"
   ]
  },
  {
   "cell_type": "code",
   "execution_count": 2,
   "metadata": {},
   "outputs": [],
   "source": [
    "import numpy as np\n",
    "import pandas as pd\n",
    "import joblib\n",
    "import pickle\n",
    "from xgboost import XGBClassifier"
   ]
  },
  {
   "cell_type": "code",
   "execution_count": 10,
   "metadata": {},
   "outputs": [
    {
     "name": "stdout",
     "output_type": "stream",
     "text": [
      "   rowid pl_hostname  pl_letter  pl_name  pl_discmethod  pl_controvflag  \\\n",
      "0      1        liqi        NaN      NaN            NaN             NaN   \n",
      "\n",
      "   pl_pnum  pl_orbper  pl_orbpererr1  pl_orbpererr2  ...  st_bmy  st_bmyerr  \\\n",
      "0      NaN        NaN            NaN            NaN  ...     NaN        NaN   \n",
      "\n",
      "   st_bmylim  st_m1  st_m1err  st_m1lim  st_c1  st_c1err  st_c1lim  st_colorn  \n",
      "0        NaN    NaN       NaN       NaN    NaN       NaN       NaN        NaN  \n",
      "\n",
      "[1 rows x 356 columns]\n",
      "Index(['rowid', 'pl_pnum', 'pl_orbper', 'pl_orbpererr1', 'pl_orbpererr2',\n",
      "       'pl_orbperlim', 'pl_orbsmaxlim', 'pl_radj', 'pl_radjerr1',\n",
      "       'pl_radjerr2', 'pl_radjlim', 'ra', 'dec', 'st_dist', 'st_disterr1',\n",
      "       'st_disterr2', 'st_optmag', 'gaia_gmag', 'st_teff', 'st_tefferr1',\n",
      "       'st_tefferr2', 'st_mass', 'st_masserr1', 'st_rad', 'st_raderr1',\n",
      "       'st_raderr2', 'pl_tranflag', 'pl_rvflag', 'pl_radelim', 'pl_radslim',\n",
      "       'pl_trandur', 'pl_trandurerr1', 'pl_trandurerr2', 'pl_tranmid',\n",
      "       'pl_tranmiderr1', 'pl_tranmiderr2', 'pl_st_npar', 'pl_st_nref',\n",
      "       'st_rah', 'st_glon', 'st_glat', 'st_elon', 'st_elat', 'gaia_plx',\n",
      "       'gaia_plxerr1', 'gaia_plxerr2', 'gaia_dist', 'gaia_disterr1',\n",
      "       'gaia_disterr2', 'st_pmra', 'st_pmraerr', 'st_pmdec', 'st_pmdecerr',\n",
      "       'st_pm', 'st_pmerr', 'gaia_pmra', 'gaia_pmraerr', 'gaia_pmdec',\n",
      "       'gaia_pmdecerr', 'gaia_pm', 'gaia_pmerr', 'st_logg', 'st_loggerr1',\n",
      "       'st_loggerr2', 'st_metfe', 'st_metfeerr1', 'st_metfeerr2', 'st_j',\n",
      "       'st_jerr', 'st_jlim', 'st_h', 'st_herr', 'st_hlim', 'st_k', 'st_kerr',\n",
      "       'st_klim', 'st_wise1', 'st_wise1err', 'st_wise1lim', 'st_wise2',\n",
      "       'st_wise2err', 'st_wise2lim', 'st_wise3', 'st_wise3err', 'st_wise3lim',\n",
      "       'st_wise4', 'st_wise4lim', 'st_jmh2', 'st_jmh2err', 'st_jmh2lim',\n",
      "       'st_hmk2', 'st_hmk2err', 'st_hmk2lim', 'st_jmk2', 'st_jmk2err',\n",
      "       'st_jmk2lim', 'habitable'],\n",
      "      dtype='object')\n",
      "(0, 97)\n",
      "Index(['rowid', 'pl_pnum', 'pl_orbper', 'pl_orbpererr1', 'pl_orbpererr2',\n",
      "       'pl_orbperlim', 'pl_orbsmaxlim', 'pl_radj', 'pl_radjerr1',\n",
      "       'pl_radjerr2', 'pl_radjlim', 'ra', 'dec', 'st_dist', 'st_disterr1',\n",
      "       'st_disterr2', 'st_optmag', 'gaia_gmag', 'st_teff', 'st_tefferr1',\n",
      "       'st_tefferr2', 'st_mass', 'st_masserr1', 'st_rad', 'st_raderr1',\n",
      "       'st_raderr2', 'pl_tranflag', 'pl_rvflag', 'pl_radelim', 'pl_radslim',\n",
      "       'pl_trandur', 'pl_trandurerr1', 'pl_trandurerr2', 'pl_tranmid',\n",
      "       'pl_tranmiderr1', 'pl_tranmiderr2', 'pl_st_npar', 'pl_st_nref',\n",
      "       'st_rah', 'st_glon', 'st_glat', 'st_elon', 'st_elat', 'gaia_plx',\n",
      "       'gaia_plxerr1', 'gaia_plxerr2', 'gaia_dist', 'gaia_disterr1',\n",
      "       'gaia_disterr2', 'st_pmra', 'st_pmraerr', 'st_pmdec', 'st_pmdecerr',\n",
      "       'st_pm', 'st_pmerr', 'gaia_pmra', 'gaia_pmraerr', 'gaia_pmdec',\n",
      "       'gaia_pmdecerr', 'gaia_pm', 'gaia_pmerr', 'st_logg', 'st_loggerr1',\n",
      "       'st_loggerr2', 'st_metfe', 'st_metfeerr1', 'st_metfeerr2', 'st_j',\n",
      "       'st_jerr', 'st_jlim', 'st_h', 'st_herr', 'st_hlim', 'st_k', 'st_kerr',\n",
      "       'st_klim', 'st_wise1', 'st_wise1err', 'st_wise1lim', 'st_wise2',\n",
      "       'st_wise2err', 'st_wise2lim', 'st_wise3', 'st_wise3err', 'st_wise3lim',\n",
      "       'st_wise4', 'st_wise4lim', 'st_jmh2', 'st_jmh2err', 'st_jmh2lim',\n",
      "       'st_hmk2', 'st_hmk2err', 'st_hmk2lim', 'st_jmk2', 'st_jmk2err',\n",
      "       'st_jmk2lim', 'habitable'],\n",
      "      dtype='object')\n",
      "(0, 97)\n"
     ]
    }
   ],
   "source": [
    "# 加载数据处理模型\n",
    "imputer = joblib.load('./model/imputer.joblib')\n",
    "scaler = joblib.load('./model/scaler.joblib')\n",
    "with open('./model/NumericCols.pkl', 'rb') as f:\n",
    "    NumericCols = pickle.load(f)\n",
    "\n",
    "# 读取数据\n",
    "input_data = pd.read_excel('./predict/predict_data.xlsx')\n",
    "print(input_data)\n",
    "# 读取需要的列\n",
    "preprocessed_data = pd.read_csv('./predict/preprocessed.csv', nrows=0)\n",
    "\n",
    "# print(input_data.columns)\n",
    "\n",
    "# 将多余的列删除\n",
    "for field in input_data.columns:\n",
    "    if field not in preprocessed_data.columns:\n",
    "        input_data = input_data.drop(field, axis=1)\n",
    "\n",
    "# 添加宜居度\n",
    "input_data['habitable'] = np.nan\n",
    "input_data = input_data.set_index(\"rowid\")\n",
    "\n",
    "# 填充缺失值\n",
    "input_data[input_data._get_numeric_data().columns] = imputer.transform(input_data[input_data._get_numeric_data().columns])\n",
    "\n",
    "# 标准化\n",
    "input_data[NumericCols] = scaler.transform(input_data[NumericCols]) \n",
    "\n",
    "\n",
    "open('./predict/predict_data_clearify.csv', 'w').close()\n",
    "\n",
    "input_data.to_csv('./predict/predict_data_clearify.csv')"
   ]
  },
  {
   "attachments": {},
   "cell_type": "markdown",
   "metadata": {},
   "source": [
    "### 预测"
   ]
  },
  {
   "cell_type": "code",
   "execution_count": 3,
   "metadata": {},
   "outputs": [
    {
     "name": "stdout",
     "output_type": "stream",
     "text": [
      "[0] \n"
     ]
    }
   ],
   "source": [
    "model = XGBClassifier()\n",
    "model.load_model('./model/xgb.model')\n",
    "\n",
    "test = pd.read_csv('./predict/predict_data_clearify.csv')\n",
    "remove = ['rowid', 'habitable']\n",
    "test = test.drop(remove, axis = 1)\n",
    "\n",
    "for i in range(len(test)):\n",
    "    test_x = test.iloc[i].to_numpy()\n",
    "    test_x = test_x.reshape(1, -1)\n",
    "    # print(test_x)\n",
    "    y_preds = model.predict(test_x)\n",
    "    print(y_preds, end=' ')\n",
    "print()"
   ]
  }
 ],
 "metadata": {
  "kernelspec": {
   "display_name": "pytorch",
   "language": "python",
   "name": "python3"
  },
  "language_info": {
   "codemirror_mode": {
    "name": "ipython",
    "version": 3
   },
   "file_extension": ".py",
   "mimetype": "text/x-python",
   "name": "python",
   "nbconvert_exporter": "python",
   "pygments_lexer": "ipython3",
   "version": "3.9.16"
  },
  "orig_nbformat": 4
 },
 "nbformat": 4,
 "nbformat_minor": 2
}
